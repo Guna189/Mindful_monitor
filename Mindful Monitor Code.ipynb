{
 "cells": [
  {
   "cell_type": "code",
   "execution_count": null,
   "id": "51f9827b",
   "metadata": {
    "scrolled": false
   },
   "outputs": [],
   "source": [
    "report = open(\"report.txt\", \"w\")\n",
    "report.write(\"Mindfull Monitor Report\\n\\n\\n\")\n",
    "report.close()"
   ]
  },
  {
   "cell_type": "code",
   "execution_count": null,
   "id": "815532d4",
   "metadata": {},
   "outputs": [],
   "source": [
    "import numpy as np\n",
    "import cv2\n",
    "import pyautogui\n",
    "import time\n",
    "import matplotlib.pyplot as plt\n",
    "import io\n",
    "import os\n",
    "from google.cloud import vision\n",
    "from PIL import Image\n",
    "from pytesseract import pytesseract\n",
    "from better_profanity import profanity\n",
    "import tkinter, win32api, win32con, pywintypes\n",
    "import datetime"
   ]
  },
  {
   "cell_type": "code",
   "execution_count": null,
   "id": "0e9f32bd",
   "metadata": {},
   "outputs": [],
   "source": [
    "os.environ['GOOGLE_APPLICATION_CREDENTIALS'] = \"C:/Users/EEDA/PycharmProjects/google_vision_ai/myvisiontest-382605-609ab361f5b2.json\"\n",
    "path_to_tesseract = r'C:\\Program Files\\Tesseract-OCR\\tesseract.exe'"
   ]
  },
  {
   "cell_type": "code",
   "execution_count": null,
   "id": "c1756df2",
   "metadata": {},
   "outputs": [],
   "source": [
    "client = vision.ImageAnnotatorClient()\n",
    "pytesseract.tesseract_cmd = path_to_tesseract\n",
    "root = tkinter.Tk()"
   ]
  },
  {
   "cell_type": "code",
   "execution_count": null,
   "id": "79e56a81",
   "metadata": {},
   "outputs": [],
   "source": [
    "def update_label(txt):\n",
    "    label.config(text=txt)\n",
    "    label.after(10, update_label)"
   ]
  },
  {
   "cell_type": "code",
   "execution_count": null,
   "id": "18c73331",
   "metadata": {},
   "outputs": [],
   "source": [
    "label = tkinter.Label(text='You are under safe monitoring', font=('Times New Roman','20'), fg='white', bg='black')\n",
    "label.master.overrideredirect(True)\n",
    "label.master.geometry(\"+1000+40\")\n",
    "label.master.lift()\n",
    "label.master.wm_attributes(\"-topmost\", True)\n",
    "label.master.wm_attributes(\"-disabled\", True)\n",
    "label.master.wm_attributes(\"-transparentcolor\", \"white\")\n",
    "label.bind(\"<Escape>\", lambda e:sys.exit())\n",
    "hWindow = pywintypes.HANDLE(int(label.master.frame(), 16))\n",
    "\n",
    "exStyle = win32con.WS_EX_COMPOSITED | win32con.WS_EX_LAYERED | win32con.WS_EX_NOACTIVATE | win32con.WS_EX_TOPMOST | win32con.WS_EX_TRANSPARENT\n",
    "win32api.SetWindowLong(hWindow, win32con.GWL_EXSTYLE, exStyle)"
   ]
  },
  {
   "cell_type": "code",
   "execution_count": null,
   "id": "d0c2e02a",
   "metadata": {
    "scrolled": false
   },
   "outputs": [],
   "source": [
    "try:\n",
    "    while True:\n",
    "        report = open('report.txt','a')\n",
    "        now = datetime.datetime.now()\n",
    "        report.write('Session: '+str(now)+'\\n')\n",
    "\n",
    "\n",
    "        image = pyautogui.screenshot()\n",
    "        image = cv2.cvtColor(np.array(image),cv2.COLOR_RGB2BGR)\n",
    "        cv2.imwrite(\"captured.png\", image)\n",
    "        plt.imshow(image)\n",
    "        plt.show()\n",
    "\n",
    "        file_name = os.path.abspath('captured.png')\n",
    "        with io.open(file_name, 'rb') as image_file:\n",
    "            content = image_file.read()\n",
    "        image = vision.Image(content=content)\n",
    "        response = client.safe_search_detection(image=image)\n",
    "\n",
    "        safe_limits=[]\n",
    "        safe_limits.append(str(response.safe_search_annotation.adult))\n",
    "        safe_limits.append(str(response.safe_search_annotation.spoof))\n",
    "        safe_limits.append(str(response.safe_search_annotation.medical))\n",
    "        safe_limits.append(str(response.safe_search_annotation.violence))\n",
    "        safe_limits.append(str(response.safe_search_annotation.racy))\n",
    "        print(safe_limits,end='\\n')\n",
    "\n",
    "        if  'Likelihood.VERY_LIKELY' in safe_limits or 'Likelihood.LIKELY' in safe_limits:\n",
    "            info_text = \"You're stictly prohibited to view this\"\n",
    "        elif 'Likelihood.UNKNOWN' in safe_limits or 'Likelihood.POSSIBLE' in safe_limits:\n",
    "            info_text = \"You're at risk of viewing obscene content\"\n",
    "        elif 'Likelihood.VERY_UNLIKELY' in safe_limits or 'Likelihood.UNLIKELY' in safe_limits:\n",
    "            info_text = \"Image content is safe\"\n",
    "\n",
    "        img = Image.open('captured.png')\n",
    "        text = pytesseract.image_to_string(img)\n",
    "\n",
    "        tc=0\n",
    "        c=0\n",
    "        for i in text.split(\" \"):\n",
    "            if profanity.contains_profanity(i):\n",
    "                c=c+1\n",
    "            tc=tc+1\n",
    "        print(c,\"words contains profanity of\",tc)\n",
    "\n",
    "        if c>5 or (100*c/tc)>30:\n",
    "            info_text = \"You're stictly prohibited to view this\"\n",
    "        report.write(info_text+'\\n\\n')\n",
    "        report.close()\n",
    "        update_label(info_text)\n",
    "        label.pack()\n",
    "\n",
    "        try:\n",
    "            root.update()\n",
    "        except tk.TclError:\n",
    "            pass\n",
    "        time.sleep(5)\n",
    "except:\n",
    "    update_label(\"\")\n",
    "    root.update()"
   ]
  }
 ],
 "metadata": {
  "kernelspec": {
   "display_name": "Python 3",
   "language": "python",
   "name": "python3"
  },
  "language_info": {
   "codemirror_mode": {
    "name": "ipython",
    "version": 3
   },
   "file_extension": ".py",
   "mimetype": "text/x-python",
   "name": "python",
   "nbconvert_exporter": "python",
   "pygments_lexer": "ipython3",
   "version": "3.8.8"
  }
 },
 "nbformat": 4,
 "nbformat_minor": 5
}
